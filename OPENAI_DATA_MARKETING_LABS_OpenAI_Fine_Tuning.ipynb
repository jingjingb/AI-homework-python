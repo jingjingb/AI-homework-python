{
  "nbformat": 4,
  "nbformat_minor": 0,
  "metadata": {
    "colab": {
      "provenance": [],
      "include_colab_link": true
    },
    "kernelspec": {
      "name": "python3",
      "display_name": "Python 3"
    }
  },
  "cells": [
    {
      "cell_type": "markdown",
      "metadata": {
        "id": "view-in-github",
        "colab_type": "text"
      },
      "source": [
        "<a href=\"https://colab.research.google.com/github/jingjingb/AI-homework-python/blob/master/OPENAI_DATA_MARKETING_LABS_OpenAI_Fine_Tuning.ipynb\" target=\"_parent\"><img src=\"https://colab.research.google.com/assets/colab-badge.svg\" alt=\"Open In Colab\"/></a>"
      ]
    },
    {
      "cell_type": "markdown",
      "metadata": {
        "id": "p4J6sRnWzrTX"
      },
      "source": [
        "# DATA MARKETING LABS : Text Generation\n",
        "\n",
        "- FR : https://www.datamarketinglabs.com/guide-complet-sur-gpt-3-part2\n",
        "\n",
        "- EN : https://www.datamarketinglabs.org/gpt-3-a-full-guide-technical-part\n",
        "\n",
        "Objectives : Use Fine-Tuning with GPT-3\n"
      ]
    },
    {
      "cell_type": "markdown",
      "metadata": {
        "id": "ySEgnT1Z1flc"
      },
      "source": [
        "## Step 1 : Install OpenAI"
      ]
    },
    {
      "cell_type": "code",
      "metadata": {
        "id": "f-5JgNEEfpL8",
        "colab": {
          "base_uri": "https://localhost:8080/"
        },
        "outputId": "0a5b4e76-f0a1-49fb-e291-95b4db237cc5"
      },
      "source": [
        "!pip install --upgrade openai\n",
        "\n",
        "import os\n",
        "import openai\n",
        "openai.organization = \"\"\n",
        "openai.api_key = \"\"\n",
        "#openai.Engine.list()"
      ],
      "execution_count": 10,
      "outputs": [
        {
          "output_type": "stream",
          "name": "stdout",
          "text": [
            "Looking in indexes: https://pypi.org/simple, https://us-python.pkg.dev/colab-wheels/public/simple/\n",
            "Requirement already satisfied: openai in /usr/local/lib/python3.9/dist-packages (0.27.4)\n",
            "Requirement already satisfied: tqdm in /usr/local/lib/python3.9/dist-packages (from openai) (4.65.0)\n",
            "Requirement already satisfied: aiohttp in /usr/local/lib/python3.9/dist-packages (from openai) (3.8.4)\n",
            "Requirement already satisfied: requests>=2.20 in /usr/local/lib/python3.9/dist-packages (from openai) (2.27.1)\n",
            "Requirement already satisfied: urllib3<1.27,>=1.21.1 in /usr/local/lib/python3.9/dist-packages (from requests>=2.20->openai) (1.26.15)\n",
            "Requirement already satisfied: certifi>=2017.4.17 in /usr/local/lib/python3.9/dist-packages (from requests>=2.20->openai) (2022.12.7)\n",
            "Requirement already satisfied: idna<4,>=2.5 in /usr/local/lib/python3.9/dist-packages (from requests>=2.20->openai) (3.4)\n",
            "Requirement already satisfied: charset-normalizer~=2.0.0 in /usr/local/lib/python3.9/dist-packages (from requests>=2.20->openai) (2.0.12)\n",
            "Requirement already satisfied: yarl<2.0,>=1.0 in /usr/local/lib/python3.9/dist-packages (from aiohttp->openai) (1.8.2)\n",
            "Requirement already satisfied: multidict<7.0,>=4.5 in /usr/local/lib/python3.9/dist-packages (from aiohttp->openai) (6.0.4)\n",
            "Requirement already satisfied: async-timeout<5.0,>=4.0.0a3 in /usr/local/lib/python3.9/dist-packages (from aiohttp->openai) (4.0.2)\n",
            "Requirement already satisfied: aiosignal>=1.1.2 in /usr/local/lib/python3.9/dist-packages (from aiohttp->openai) (1.3.1)\n",
            "Requirement already satisfied: frozenlist>=1.1.1 in /usr/local/lib/python3.9/dist-packages (from aiohttp->openai) (1.3.3)\n",
            "Requirement already satisfied: attrs>=17.3.0 in /usr/local/lib/python3.9/dist-packages (from aiohttp->openai) (22.2.0)\n"
          ]
        }
      ]
    },
    {
      "cell_type": "markdown",
      "metadata": {
        "id": "onXoVR_z51R2"
      },
      "source": [
        "## Step 2 : Import Libraries"
      ]
    },
    {
      "cell_type": "code",
      "metadata": {
        "id": "e0f_ZvnZf-3L"
      },
      "source": [
        "import re\n",
        "import json\n",
        "import pandas as pd\n",
        "import openai\n",
        "import string\n",
        "import requests\n",
        "import random"
      ],
      "execution_count": 11,
      "outputs": []
    },
    {
      "cell_type": "markdown",
      "metadata": {
        "id": "EYB85eEdpRzh"
      },
      "source": [
        "## Step 3 : CLI data preparation tool\n",
        "\n",
        "Here, my file : data-tomato.json\n"
      ]
    },
    {
      "cell_type": "code",
      "metadata": {
        "id": "j2mrMppw1Zvp",
        "outputId": "37d30a2f-0601-44ff-e714-aafe7bb497c9",
        "colab": {
          "base_uri": "https://localhost:8080/",
          "height": 183
        }
      },
      "source": [
        "{\"prompt\":\"Tomato Description\\n\\n nom:Tomate Black mountain pink op\\n\\n\tport:indéterminé\\n\\ncalibre:très gros fruit - masse 300g à 1kg - calibre supérieur à 85mm\\n\\n\torigine:États-Unis\\n\\nhauteur:comprise entre 1.2 et 2 mètres\\n\\nusage:apte à la cuisson - coulis - sauce\\n\\ncouleur:rose\\n\\nprecocite:Tardive - 80 à 100 jours\\n\\n\n",
        "description:\", \"completion\":\"La Tomate Black mountain pink op vient des États-Unis. Que vous vouliez préparer un coulis, des sauces ou tout autre plat qui nécessite une cuisson, alors cette variété est adaptée à vos besoins. C'est une tomate rose, à port indéterminé. Elle produit de très gros fruits, pouvant faire de 300g à 1kg. Le calibre des tomates peut être supérieur à 85mm. C'est une tomate tardive, qui met entre 80 et 100 jours pour arriver à maturité. Le plant de la tomate Black mountain pink op peut aller de 1.2m à 2 mètres.\"}\n",
        "{\"prompt\":\"Tomato description\\n\\nnom:Tomate Amethyst Jewel\\n\\nport:indéterminé\\n\\ncalibre:petit fruit - masse 50 à 100g - calibre 47 à 57mm\\n\\norigine:États-Unis\\n\\nhauteur:comprise entre 1.2 et 2 mètres\\n\\nusage:salade\\n\\nproduction:très bonne\\n\\ncouleur:bigarrée-zébrée\\n\\nprecocite:Mi saison - 65 à 80 jours\\n\\n\n",
        "description:\", \"completion\":\"La tomate Amethyst Jewel est une tomate bigarrée-zébrée qui est très bonne en salade. Ses fruits sont petits, avec un calibre de 47 à 57mm, pour un poids allant de 50 à 100g. Originaire des États-Unis, la tomate Amethyst Jewel est une variété à port indéterminé, dont la taille est comprise entre 1.2 et 2 mètres. C'est une variété de mi-saison. Vous la récolterez entre 65 et 80 jours après repiquage.\"}\n",
        "{\"prompt\":\"Tomato description\\n\\nnom:Tomate Adelin Morin\\n\\nport:indéterminé\\n\\ncalibre:très gros fruit - masse 300g à 1kg - calibre supérieur à 85mm\\n\\norigine:Canada\\n\\nhauteur:comprise entre 1.2 et 2 mètres\\n\\nusage:salade\\n\\nproduction:très bonne\\n\\ncouleur:rose\\n\\nmaladie:assez bonne résistance aux maladies - oïdium - mildiou\\n\\nprecocite:Mi saison - 65 à 80 jours\\n\\ndescription:\", \"completion\":\"La variété de tomate Adelin Morin est résistante aux maladies comme le mildiou et l'oïdium. En plus d'être résistante, c'est une tomate au gout excellent, à cuisiner en salade. Originaire du Canada, c'est une variété de tomate à port indéterminé, qui produit des tomates roses. La tomate Adelin Morin est un très gros fruit pouvant aller de 300g à 1kg. Cette tomate, qui se récolte à la mi-saison, pousse sur un plant qui peut mesurer jusqu'à 2 mètres de hauteur.\"}\n",
        "{\"prompt\":\"Tomato description\\n\\nnom:Tomate belarus orange\\n\\nport:déterminé\\n\\ncalibre:fruit moyen - masse 100 à 150g - calibre 57 à 67mm\\n\\norigine:Bélarus\\n\\n\thauteur:comprise entre 50 et 80 cm\\n\\n\n",
        "usage:longue conservation - aptitude au séchage\\n\\nproduction:très bonne\\n\\ncouleur:orange\\n\\nprecocite:Mi saison - 65 à 80 jours\\n\\ndescription:\", \"completion\":\"Si vous recherchez une tomate savoureuse et orange, alors la tomate belarus orange pourrait vous intéresser. Elle est parfaitement adaptée pour la longue conservation ainsi qu'au séchage. Issue de Bélarus, c'est une variété à port déterminé qui produit des fruits de taille moyenne, avec un poids compris entre 100 et 150 grammes. Le plant se développe sur une hauteur comprise entre 50 et 80cm et produit des fruits allant de 57 à 67mm de calibre. La tomate belarus orange est de mi-saison. Elle met entre 65 et 80 jours pour que les fruits commencent à arriver à maturité.\"}\n",
        "{\"prompt\":\"Tomato description\\n\\nnom:Tomate Amana Orange Op\\n\\nport:indéterminé\\n\\ncalibre:très gros fruit - masse 300g à 1kg - calibre supérieur à 85mm\\n\\norigine:États-Unis\\n\\n\n",
        "hauteur:comprise entre 1.2 et 2 mètres\\n\\nusage:apte à la cuisson - coulis - sauce\\n\\nproduction:très bonne\\n\\ncouleur:orange\\n\\nprecocite:Mi saison - 65 à 80 jours\\n\\ndescription:\", \"completion\":\"Vous recherchez des tomates pour créer des coulis, des sauces ? La tomate Amana Orange Op est apte à la cuisson. De plus, ses gros fruits, pouvant aller jusqu'à 1kg, vous permettront de créer vos sauces et coulis en quantité. D'un calibre supérieur à 85mm, cette variété à port indéterminé, issue des États-Unis est très goûteuse. Arrivée à maturité à la mi-saison (entre 65 et 80 jours), La tomate Amana Orange Op vous donnera des fruits orange, sur un plant qui peut aller jusqu'à 2 mètres de hauteur.\"}\n",
        "{\"prompt\":\"Tomato description\\n\\nnom:Tomate Basket vee op\\n\\nport:indéterminé\\n\\ncalibre:gros fruit - masse 150 à 300g - calibre 67 à 85mm\\n\\n\n",
        "origine:Canada\\n\\n\tcouleur:orange\\n\\nhauteur:comprise entre 50 et 80 cm\\n\\nusage: apte à la cuisson - coulis - sauce\\n\\ncouleur:rouge\\n\\nmaladie:assez bonne résistance aux maladies - oïdium - mildiou\\n\\nprecocite:Précoce - 42 à 55 jours\\n\\ndescription:\", \"completion\":\"La variété de Tomate Basket vee op, issu du Canada, cumule les avantages : - c'est une tomate précoce (récolte en 42 à 55 jours après le repiquage), tout en ayant de gros fruits (150 à 300g pour un calibre de 67 à 85mm) - elle est résistante aux maladies (l'oïdium et le mildiou) La Tomate Basket vee op est à port indéterminé, mais elle ne dépasse pas les 80 cm de hauteur. Elle produit des tomates rouges. Elle est bonne, même après la cuisson. Ce qui en fait une tomate adaptée aux sauces et coulis.\"}\n",
        "{\"prompt\":\"Tomato description\\n\\nnom:Tomate Belmonte op\\n\\nport:indéterminé\\n\\ncalibre:très gros fruit - masse 300g à 1kg - calibre supérieur à 85mm\\n\\norigine:Italie\\n\\nhauteur:comprise entre 1.2 et 2 mètres\\n\\nusage:apte à la cuisson - coulis - sauce\\n\\ncouleur:rose\\n\\nprecocite:Mi saison - 65 à 80 jours\\n\\ndescription:\", \"completion\":\"La variété Belmonte op a vu le jour en Italie. Rose, elle est propice à la conception de sauces et de coulis. En effet, c'est une tomate qui ne perd pas sa saveur lors de la cuisson. Vous pourrez la récolter après 65 jours minimum après le repiquage, et 80 jours maximum. C'est une tomate à port indéterminée (qui peut mesurer de 1.2m à 2m) qui produit de très gros fruits. D'un calibre de 85mm en moyenne, ils peuvent peser de 300 à 1000 grammes.\"}\n",
        "{\"prompt\":\"Tomato description\\n\\nnom:Tomate Aunt Ruby's German Green Cherry op\\n\\nport:indéterminé\\n\\ncalibre:cocktail - masse de 30 à 50g\\n\\norigine:États-Unis\\n\\n\n",
        "hauteur:comprise entre 1.2 et 2 mètres\\n\\nusage:salade\\n\\nproduction:bonne\\n\\ncouleur:verte\\n\\nprecocite:Mi saison de 65 à 80 jours\\n\\ndescription:\", \"completion\":\"La variété de Tomate Aunt Ruby's German Green Cherry op est une tomate cocktail, c'est-à-dire qu'elle est très sucrée. Originaire des États-Unis, elle est excellente pour donner un goût exceptionnel à vos sales. Elle est originale car elle est verte et petite. En effet, elle pèse entre 30 et 50g maximum. La variété de Tomate Aunt Ruby's German Green Cherry op est à port indéterminé, qui se récolte entre 65 et 80 jours après plantation.\"}\n",
        "{\"prompt\":\"Tomato description\\n\\nnom:Tomate Bezrazmernyi\\n\\nport:indéterminé\\n\\ncalibre:très gros fruit - masse 300g à 1kg - calibre supérieur à 85mm\\n\\norigine:Russie\\n\\nhauteur:comprise entre 1.2 et 2 mètres\\n\\nusage:apte à la cuisson - coulis - sauce\\n\\nproduction:bonne\\n\\ncouleur:rouge\\n\\nmaladie:assez bonne résistance aux maladies - oïdium - mildiou\\n\\nprecocite:Mi saison de 65 à 80 jours\\n\\ndescription:\", \"completion\":\"La tomate Bezrazmernyi est une tomate indéterminée qui est assez résistante aux maladies comme le mildiou et l'oïdium. De mi-saison, elle est adaptée pour les coulis et les sauces. Elle a un assez bon goût, et produit de très gros fruits allant de 300g à 1kg, avec une circonférence dépassant les 85mm. La tomate Bezrazmernyi est originaire de la Russie.\"}\n"
      ],
      "execution_count": 12,
      "outputs": [
        {
          "output_type": "error",
          "ename": "SyntaxError",
          "evalue": "ignored",
          "traceback": [
            "\u001b[0;36m  File \u001b[0;32m\"<ipython-input-12-19635d619902>\"\u001b[0;36m, line \u001b[0;32m1\u001b[0m\n\u001b[0;31m    {\"prompt\":\"Tomato Description\\n\\n nom:Tomate Black mountain pink op\\n\\n\tport:indéterminé\\n\\ncalibre:très gros fruit - masse 300g à 1kg - calibre supérieur à 85mm\\n\\n\torigine:États-Unis\\n\\nhauteur:comprise entre 1.2 et 2 mètres\\n\\nusage:apte à la cuisson - coulis - sauce\\n\\ncouleur:rose\\n\\nprecocite:Tardive - 80 à 100 jours\\n\\n\u001b[0m\n\u001b[0m                                                                           \t                                                                                             \t                                                                                                                                                                  ^\u001b[0m\n\u001b[0;31mSyntaxError\u001b[0m\u001b[0;31m:\u001b[0m EOL while scanning string literal\n"
          ]
        }
      ]
    },
    {
      "cell_type": "code",
      "metadata": {
        "id": "ME5oD-kMpVd5",
        "colab": {
          "base_uri": "https://localhost:8080/"
        },
        "outputId": "dd011863-1a08-452b-b5b3-c2669bedb9d3"
      },
      "source": [
        "!openai tools fine_tunes.prepare_data -f data-tomato.json"
      ],
      "execution_count": 13,
      "outputs": [
        {
          "output_type": "stream",
          "name": "stdout",
          "text": [
            "Analyzing...\n",
            "\n",
            "\n",
            "ERROR in read_any_format validator: File data-tomato.json does not exist.\n",
            "\n",
            "Aborting..."
          ]
        }
      ]
    },
    {
      "cell_type": "markdown",
      "metadata": {
        "id": "mZ3uhOiNz2kM"
      },
      "source": [
        "## Step 4 : Create a fine-tuned model"
      ]
    },
    {
      "cell_type": "code",
      "metadata": {
        "id": "vVBCJFrYz22G"
      },
      "source": [
        "%env OPENAI_API_KEY=sk-wwXXXXXXXXXXXXXXXXXXXXXXXXXX\n",
        "\n",
        "!openai api fine_tunes.create -t \"data-tomato_prepared.jsonl\" -m \"curie\""
      ],
      "execution_count": null,
      "outputs": []
    },
    {
      "cell_type": "markdown",
      "metadata": {
        "id": "v6VCplJi0QBc"
      },
      "source": [
        "When the job is done, it should display the name of the fine-tuned model.\n",
        "\n",
        "In addition to creating a fine-tune job, you can also list existing jobs, retrieve the status of a job, or cancel a job."
      ]
    },
    {
      "cell_type": "code",
      "metadata": {
        "id": "7MeCVKyI0QLq"
      },
      "source": [
        "# List all created fine-tunes\n",
        "!openai api fine_tunes.list"
      ],
      "execution_count": null,
      "outputs": []
    },
    {
      "cell_type": "markdown",
      "metadata": {
        "id": "8TV5umNm0bxi"
      },
      "source": [
        "## Step 5 : Use a fine-tuned model"
      ]
    },
    {
      "cell_type": "code",
      "metadata": {
        "id": "6PnVSbEvUBxo"
      },
      "source": [
        "YOUR_MODEL = \"curie:ft-datamarketinglabs-2021-07-22-12-03-32\"\n",
        "YOUR_PROMPT = \"Tomato description\\n\\nnom:Tomate Terrasi\\n\\ncalibre:très gros fruit - masse 300g à 1kg - calibre supérieur à 85mm\\n\\norigine:Russie\\n\\nhauteur:comprise entre 1.2 et 2 mètres\\n\\nusage:apte à la cuisson - coulis - sauce\\n\\nproduction:bonne\\n\\ncouleur:rouge\\n\\nmaladie:assez bonne résistance aux maladies - oïdium - mildiou\\n\\nprecocite:Mi saison de 65 à 80 jours\\n\\ndescription:\""
      ],
      "execution_count": null,
      "outputs": []
    },
    {
      "cell_type": "markdown",
      "metadata": {
        "id": "o1q9cphZU24E"
      },
      "source": [
        "Quick test without parameters"
      ]
    },
    {
      "cell_type": "code",
      "metadata": {
        "colab": {
          "base_uri": "https://localhost:8080/"
        },
        "id": "aPQdELt6G9u0",
        "outputId": "72c4404a-41ed-4bbb-8b12-c55281081d37"
      },
      "source": [
        "!openai api completions.create -m YOUR_MODEL -p YOUR_PROMPT"
      ],
      "execution_count": null,
      "outputs": [
        {
          "output_type": "stream",
          "text": [
            "Tomato description\\n\\nnom:Tomate Bezrazmernyi\\n\\nport:indéterminé\\n\\ncalibre:très gros fruit - masse 300g à 1kg - calibre supérieur à 85mm\\n\\norigine:Russie\\n\\nhauteur:comprise entre 1.2 et 2 mètres\\n\\nusage:apte à la cuisson - coulis - sauce\\n\\nproduction:bonne\\n\\ncouleur:rouge\\n\\nmaladie:assez bonne résistance aux maladies - oïdium - mildiou\\n\\nprecocite:Mi saison de 65 à 80 jours\\n\\ndescription: Tout d'abord, il est intéressant de penser"
          ],
          "name": "stdout"
        }
      ]
    },
    {
      "cell_type": "markdown",
      "metadata": {
        "id": "7LV9c_25Szxv"
      },
      "source": [
        "## Step 6 : Write Python Function"
      ]
    },
    {
      "cell_type": "code",
      "metadata": {
        "colab": {
          "base_uri": "https://localhost:8080/"
        },
        "id": "3iPC-vi5VCzw",
        "outputId": "e7a1a1b9-2df2-43fa-980b-82875a9ff8e9"
      },
      "source": [
        "def completion(prompt, engine_id, debug=True, **kwargs):\n",
        "\n",
        "    COMPLETION_ENDPOINT = 'https://api.openai.com/v1/completions'\n",
        "    \n",
        "    headers = {'Authorization': 'Bearer {api_key}'.format(api_key=openai.api_key),\n",
        "              'Content-Type': 'application/json'}\n",
        "\n",
        "    data = {\n",
        "              \"prompt\": prompt,\n",
        "              \"model\": engine_id,\n",
        "              \"max_tokens\": kwargs.get('max_tokens', 200),\n",
        "              \"temperature\": kwargs.get('temperature', 0.3),\n",
        "              \"frequency_penalty\": kwargs.get('frequency_penalty', 0.9),            \n",
        "              \"stop\": [\"\"]\n",
        "            }\n",
        "    \n",
        "    data.update(kwargs)\n",
        "\n",
        "    response = requests.post(COMPLETION_ENDPOINT, headers=headers, data=json.dumps(data))\n",
        "    result = response.json()\n",
        "\n",
        "    if debug:\n",
        "        print('Headers:')\n",
        "        print(json.dumps(headers, indent=4))\n",
        "        print('Data:')\n",
        "        print(json.dumps(data, indent=4))\n",
        "        print('Result:')\n",
        "        print(json.dumps(result, indent=4))\n",
        "\n",
        "    if response.status_code == 200:\n",
        "        return [x['text'].strip() for x in result['choices']]\n",
        "    else:\n",
        "        return \"Error: {}\".format(result['error']['message'])\n",
        "  \n",
        "completion(YOUR_PROMPT, YOUR_MODEL, debug=False)"
      ],
      "execution_count": null,
      "outputs": [
        {
          "output_type": "execute_result",
          "data": {
            "text/plain": [
              "[\"La variété de tomate Terrasi est une tomate résistante aux maladies comme le mildiou et l'oïdium. Originaire de la Russie, c'est une tomate rouge qui produit des fruits très gros, pouvant aller jusqu'à 1kg. La variété Terrasi est adaptée pour les sauces et les coulis. Elle est à port indéterminé, mais peut mesurer jusqu'à 2 mètres de hauteur. La tomate Terrasi est à port indéterminé, mais peut mesurer jusqu'à 2 mètres de hauteur. Cette variété produit des fruits rouges qui peuvent aller de 300g à 1kg en calibre supérieur à 85mm. Cette tomate résiste\"]"
            ]
          },
          "metadata": {
            "tags": []
          },
          "execution_count": 32
        }
      ]
    },
    {
      "cell_type": "markdown",
      "metadata": {
        "id": "-Wsv3SJfVAzw"
      },
      "source": [
        "The result is impressive with only 9 examples. In general, OpenAI recommends having at least a few hundred examples. They found that performance tends to linearly increase for every doubling of the number of examples."
      ]
    },
    {
      "cell_type": "code",
      "metadata": {
        "colab": {
          "base_uri": "https://localhost:8080/"
        },
        "id": "ZgLrKKcyttRg",
        "outputId": "63e4c439-adfd-4feb-e903-041b19db9279"
      },
      "source": [
        "YOUR_PROMPT = \"Tomato description\\n\\nnom:Tomate Babbardi\\n\\ncalibre:petit fruit - masse 30g à 100g - calibre inférieur à 45mm\\n\\norigine:France\\n\\nhauteur:comprise entre 1.2 et 1.5 mètres\\n\\nusage:purée\\n\\nproduction:bonne\\n\\ncouleur:rouge\\n\\nmaladie:assez bonne résistance aux maladies - covidou\\n\\nprecocite:Mi saison de 5 à 15 jours\\n\\ndescription:\"\n",
        "\n",
        "completion(YOUR_PROMPT, YOUR_MODEL, debug=False)"
      ],
      "execution_count": null,
      "outputs": [
        {
          "output_type": "execute_result",
          "data": {
            "text/plain": [
              "[\"La variété de tomate Babbardi est une tomate à petit fruit, qui se récolte en moyenne entre 30 et 100 grammes. C'est une tomate rouge, qui pèse entre 30 et 100 grammes pour un calibre inférieur à 45mm. Originaire de la France, c'est une variété à port déterminé (entre 1.2 et 1.5 mètres) qui produit des fruits rouges, avec un goût excellent. La tomate Babbardi est résistante aux maladies comme le coquelicot (covidou), ce qui en fait une tomate bonne pour les purées. C'est une variétée à port déterminée (entre 1.2 et 1.5 mètres), dont la production peut aller jusqu'à\"]"
            ]
          },
          "metadata": {
            "tags": []
          },
          "execution_count": 34
        }
      ]
    }
  ]
}